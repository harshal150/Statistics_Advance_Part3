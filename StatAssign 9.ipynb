{
 "cells": [
  {
   "cell_type": "markdown",
   "id": "99d3d92f-c130-4e12-a30d-aea575d6424c",
   "metadata": {},
   "source": [
    "Q1. Write a Python function that takes in two arrays of data and calculates the F-value for a variance ratio test. The function should return the F-value and the corresponding p-value for the test."
   ]
  },
  {
   "cell_type": "code",
   "execution_count": 1,
   "id": "51fe1dd3-7f83-42f2-a354-337f665190c1",
   "metadata": {},
   "outputs": [],
   "source": [
    "import numpy as np\n",
    "from scipy.stats import f\n",
    "\n",
    "def variance_ratio_test(data1, data2):\n",
    "    \"\"\"\n",
    "    Compute the variance ratio test for two arrays of data.\n",
    "    Assumes that the arrays have the same length.\n",
    "    \"\"\"\n",
    "    # Compute the differences and log differences between adjacent observations\n",
    "    diff1 = np.diff(data1)\n",
    "    diff2 = np.diff(data2)\n",
    "    log_diff1 = np.log(data1[1:]) - np.log(data1[:-1])\n",
    "    log_diff2 = np.log(data2[1:]) - np.log(data2[:-1])\n",
    "\n",
    "    # Compute the variances of the differences and log differences\n",
    "    s1_sq = np.mean(np.square(diff1 - diff2))\n",
    "    s2_sq = np.mean(np.square(log_diff1 - log_diff2))\n",
    "\n",
    "    # Compute the test statistic and degrees of freedom\n",
    "    n = len(data1)\n",
    "    F = s2_sq / s1_sq\n",
    "    df1 = n/2\n",
    "    df2 = n/2\n",
    "\n",
    "    # Compute the p-value for the test\n",
    "    p_value = 1 - f.cdf(F, df1, df2)\n",
    "\n",
    "    return F, p_value"
   ]
  },
  {
   "cell_type": "markdown",
   "id": "aa29faf9-fb25-4596-8c93-a9258dd48ed0",
   "metadata": {},
   "source": [
    "This function takes in two arrays of data (data1 and data2), which are assumed to have the same length. It then computes the differences and log differences between adjacent observations for each array, and calculates the variances of these differences. The variances are then used to compute the F-value for the variance ratio test, along with the degrees of freedom for the test. Finally, the function uses the F-distribution to compute the corresponding p-value for the test. The function returns both the F-value and the p-value."
   ]
  },
  {
   "cell_type": "code",
   "execution_count": null,
   "id": "4fb4fedc-3c02-4ae4-9bb0-d7780dbdd344",
   "metadata": {},
   "outputs": [],
   "source": []
  },
  {
   "cell_type": "markdown",
   "id": "a1aae4e0-9084-4442-9e26-a1ece1ac6057",
   "metadata": {},
   "source": [
    "Q2. Given a significance level of 0.05 and the degrees of freedom for the numerator and denominator of an F-distribution, write a Python function that returns the critical F-value for a two-tailed test."
   ]
  },
  {
   "cell_type": "code",
   "execution_count": 2,
   "id": "398c5b2a-8f83-4b20-aba9-2bbcc9222679",
   "metadata": {},
   "outputs": [],
   "source": [
    "from scipy.stats import f\n",
    "\n",
    "def critical_f_value(df1, df2):\n",
    "    \"\"\"\n",
    "    Compute the critical F-value for a two-tailed test given a significance level of 0.05\n",
    "    and the degrees of freedom for the numerator and denominator of an F-distribution.\n",
    "    \"\"\"\n",
    "    alpha = 0.05\n",
    "    f_critical = f.ppf(alpha/2, df1, df2)\n",
    "    return f_critical"
   ]
  },
  {
   "cell_type": "markdown",
   "id": "5186e4d9-fde3-4a6d-b8d8-b0117a5e3992",
   "metadata": {},
   "source": [
    "This function uses the f.ppf() function from the scipy.stats module to compute the critical F-value for a two-tailed test at a significance level of 0.05. The f.ppf() function takes the significance level (alpha) divided by 2 as its first argument, and the degrees of freedom for the numerator and denominator of the F-distribution as its next two arguments (df1 and df2, respectively). The resulting critical F-value is then returned by the function."
   ]
  },
  {
   "cell_type": "code",
   "execution_count": null,
   "id": "91177890-1104-4caa-a4de-8c7a9358379b",
   "metadata": {},
   "outputs": [],
   "source": []
  },
  {
   "cell_type": "markdown",
   "id": "21444b92-86be-4524-a185-0c934cb89eb5",
   "metadata": {},
   "source": [
    "Q3. Write a Python program that generates random samples from two normal distributions with known variances and uses an F-test to determine if the variances are equal. The program should output the F- value, degrees of freedom, and p-value for the test."
   ]
  },
  {
   "cell_type": "code",
   "execution_count": 3,
   "id": "ccfcec43-ffc8-4b5e-a75e-679339dc856c",
   "metadata": {},
   "outputs": [
    {
     "name": "stdout",
     "output_type": "stream",
     "text": [
      "F-value: 0.8261\n",
      "Degrees of freedom: 49, 39\n",
      "p-value: 0.7387\n"
     ]
    }
   ],
   "source": [
    "import numpy as np\n",
    "from scipy.stats import f\n",
    "\n",
    "# Set the random seed for reproducibility\n",
    "np.random.seed(123)\n",
    "\n",
    "# Set the sample sizes and variances for the two normal distributions\n",
    "n1, n2 = 50, 40\n",
    "var1, var2 = 1.5**2, 1.8**2\n",
    "\n",
    "# Generate random samples from the two normal distributions\n",
    "data1 = np.random.normal(loc=0, scale=np.sqrt(var1), size=n1)\n",
    "data2 = np.random.normal(loc=0, scale=np.sqrt(var2), size=n2)\n",
    "\n",
    "# Compute the F-value and p-value for the variance ratio test\n",
    "F = np.var(data1) / np.var(data2)\n",
    "df1 = n1 - 1\n",
    "df2 = n2 - 1\n",
    "p_value = 1 - f.cdf(F, df1, df2)\n",
    "\n",
    "# Print the results of the variance ratio test\n",
    "print(\"F-value: {:.4f}\".format(F))\n",
    "print(\"Degrees of freedom: {}, {}\".format(df1, df2))\n",
    "print(\"p-value: {:.4f}\".format(p_value))"
   ]
  },
  {
   "cell_type": "markdown",
   "id": "f116becd-8ddc-44fd-af53-e475fd98d37a",
   "metadata": {},
   "source": [
    "This program generates random samples from two normal distributions with known variances (var1 and var2) and sample sizes (n1 and n2). It then computes the F-value and p-value for the variance ratio test using the np.var() function to compute the sample variances and the f.cdf() function from the scipy.stats module to compute the p-value. The degrees of freedom for the test are also computed based on the sample sizes (n1 and n2). Finally, the program prints out the F-value, degrees of freedom, and p-value for the test. Note that the results of the test will be different each time the program is run due to the random generation of the samples."
   ]
  },
  {
   "cell_type": "code",
   "execution_count": null,
   "id": "f296c80f-d6e5-45c4-87ea-db0c79267f75",
   "metadata": {},
   "outputs": [],
   "source": []
  },
  {
   "cell_type": "markdown",
   "id": "02530023-2da4-4f9c-be66-fece064b78c2",
   "metadata": {},
   "source": [
    "\n",
    "Q4.The variances of two populations are known to be 10 and 15. A sample of 12 observations is taken from each population. Conduct an F-test at the 5% significance level to determine if the variances are significantly different."
   ]
  },
  {
   "cell_type": "code",
   "execution_count": 4,
   "id": "f3a699d8-ac3f-4f4a-b43c-00fe4ddf7859",
   "metadata": {},
   "outputs": [
    {
     "name": "stdout",
     "output_type": "stream",
     "text": [
      "Fail to reject the null hypothesis: The variances are not significantly different.\n"
     ]
    }
   ],
   "source": [
    "import numpy as np\n",
    "from scipy.stats import f\n",
    "\n",
    "# Define the sample sizes and known variances\n",
    "n1, n2 = 12, 12\n",
    "var1, var2 = 10, 15\n",
    "\n",
    "# Generate random samples from the two populations\n",
    "data1 = np.random.normal(loc=0, scale=np.sqrt(var1), size=n1)\n",
    "data2 = np.random.normal(loc=0, scale=np.sqrt(var2), size=n2)\n",
    "\n",
    "# Compute the F-value and p-value for the variance ratio test\n",
    "F = np.var(data1) / np.var(data2)\n",
    "df1 = n1 - 1\n",
    "df2 = n2 - 1\n",
    "p_value = 1 - f.cdf(F, df1, df2)\n",
    "\n",
    "# Set the significance level\n",
    "alpha = 0.05\n",
    "\n",
    "# Conduct the hypothesis test\n",
    "if p_value < alpha:\n",
    "    print(\"Reject the null hypothesis: The variances are significantly different.\")\n",
    "else:\n",
    "    print(\"Fail to reject the null hypothesis: The variances are not significantly different.\")"
   ]
  },
  {
   "cell_type": "markdown",
   "id": "8c261086-dbce-42ba-b195-e034ab1b5e98",
   "metadata": {},
   "source": [
    "\n",
    "This program generates random samples from the two populations with known variances (var1 and var2) and sample sizes of 12 observations each (n1 and n2). It then computes the F-value and p-value for the variance ratio test using the np.var() function to compute the sample variances and the f.cdf() function from the scipy.stats module to compute the p-value. The degrees of freedom for the test are also computed based on the sample sizes (n1 and n2). Finally, the program conducts the hypothesis test at the 5% significance level and prints out the conclusion of the test."
   ]
  },
  {
   "cell_type": "code",
   "execution_count": null,
   "id": "74322325-b1f2-45c1-87ef-f9ee00a60101",
   "metadata": {},
   "outputs": [],
   "source": []
  },
  {
   "cell_type": "markdown",
   "id": "2a402ea8-9eb2-4f1e-9726-bae2bfd0cd6a",
   "metadata": {},
   "source": [
    "Q5. A manufacturer claims that the variance of the diameter of a certain product is 0.005. A sample of 25 products is taken, and the sample variance is found to be 0.006. Conduct an F-test at the 1% significance level to determine if the claim is justified."
   ]
  },
  {
   "cell_type": "code",
   "execution_count": 5,
   "id": "aeec7b62-eb9b-44f7-b5c1-9cdb078fce47",
   "metadata": {},
   "outputs": [
    {
     "name": "stdout",
     "output_type": "stream",
     "text": [
      "Fail to reject the null hypothesis: The claim of variance 0.005 is justified.\n"
     ]
    }
   ],
   "source": [
    "import numpy as np\n",
    "from scipy.stats import f\n",
    "\n",
    "# Define the null hypothesis variance and the sample variance\n",
    "null_var = 0.005\n",
    "sample_var = 0.006\n",
    "n = 25\n",
    "\n",
    "# Compute the F-value and p-value for the variance ratio test\n",
    "F = sample_var / null_var\n",
    "df1 = n - 1\n",
    "df2 = np.inf\n",
    "p_value = 1 - f.cdf(F, df1, df2)\n",
    "\n",
    "# Set the significance level\n",
    "alpha = 0.01\n",
    "\n",
    "# Conduct the hypothesis test\n",
    "if p_value < alpha:\n",
    "    print(\"Reject the null hypothesis: The claim of variance 0.005 is not justified.\")\n",
    "else:\n",
    "    print(\"Fail to reject the null hypothesis: The claim of variance 0.005 is justified.\")"
   ]
  },
  {
   "cell_type": "markdown",
   "id": "64d525d6-898e-40d9-a315-771adff910f9",
   "metadata": {},
   "source": [
    "This program conducts an F-test at the 1% significance level to determine if the claim that the variance of the diameter of a certain product is 0.005 is justified. It uses the sample variance of 0.006 and a sample size of 25 to compute the F-value and p-value for the variance ratio test using the f.cdf() function from the scipy.stats module. The degrees of freedom for the test are computed based on the sample size (n) and the null hypothesis variance. Finally, the program conducts the hypothesis test and prints out the conclusion of the test.\n",
    "\n"
   ]
  },
  {
   "cell_type": "code",
   "execution_count": null,
   "id": "c3403bc8-c658-4ed9-92dc-3e88b145ac5c",
   "metadata": {},
   "outputs": [],
   "source": []
  },
  {
   "cell_type": "markdown",
   "id": "23ccc47c-cec1-42f1-be31-a333f72a3488",
   "metadata": {},
   "source": [
    "Q6. Write a Python function that takes in the degrees of freedom for the numerator and denominator of an F-distribution and calculates the mean and variance of the distribution. The function should return the mean and variance as a tuple."
   ]
  },
  {
   "cell_type": "code",
   "execution_count": 6,
   "id": "37557f3d-34c8-4965-b8f8-c223f5b49393",
   "metadata": {},
   "outputs": [],
   "source": [
    "def f_distribution_mean_var(df1, df2):\n",
    "    mean = df2 / (df2 - 2)\n",
    "    variance = (2 * df2 ** 2 * (df1 + df2 - 2)) / (df1 * (df2 - 2) ** 2 * (df2 - 4))\n",
    "    return mean, variance"
   ]
  },
  {
   "cell_type": "markdown",
   "id": "c979f838-f544-43be-acde-038368f5684a",
   "metadata": {},
   "source": [
    "This function uses the formula for the mean and variance of an F-distribution, which are:\n",
    "\n",
    "Mean = df2 / (df2 - 2)\n",
    "\n",
    "Variance = (2 * df2^2 * (df1 + df2 - 2)) / (df1 * (df2 - 2)^2 * (df2 - 4))\n",
    "\n",
    "where df1 and df2 are the degrees of freedom for the numerator and denominator, respectively.\n",
    "\n",
    "The function returns the mean and variance as a tuple. You can call this function and pass in the degrees of freedom to calculate the mean and variance of the F-distribution."
   ]
  },
  {
   "cell_type": "code",
   "execution_count": null,
   "id": "9229fee6-0cb4-4078-85f5-b507cdb2ede0",
   "metadata": {},
   "outputs": [],
   "source": []
  },
  {
   "cell_type": "markdown",
   "id": "54ada295-7b93-43c5-b62d-154f43752cda",
   "metadata": {},
   "source": [
    "Q7. A random sample of 10 measurements is taken from a normal population with unknown variance. The sample variance is found to be 25. Another random sample of 15 measurements is taken from another normal population with unknown variance, and the sample variance is found to be 20. Conduct an F-test at the 10% significance level to determine if the variances are significantly different."
   ]
  },
  {
   "cell_type": "code",
   "execution_count": 7,
   "id": "21f22897-5912-4a67-9ca6-e1620161c4e6",
   "metadata": {},
   "outputs": [
    {
     "name": "stdout",
     "output_type": "stream",
     "text": [
      "Fail to reject the null hypothesis: The variances are not significantly different.\n"
     ]
    }
   ],
   "source": [
    "import numpy as np\n",
    "from scipy.stats import f\n",
    "\n",
    "# Define the sample variances and sample sizes\n",
    "s1_squared = 25\n",
    "s2_squared = 20\n",
    "n1 = 10\n",
    "n2 = 15\n",
    "\n",
    "# Compute the F-value and p-value for the variance ratio test\n",
    "F = s1_squared / s2_squared\n",
    "df1 = n1 - 1\n",
    "df2 = n2 - 1\n",
    "p_value = 2 * (1 - f.cdf(F, df1, df2))\n",
    "\n",
    "# Set the significance level\n",
    "alpha = 0.1\n",
    "\n",
    "# Conduct the hypothesis test\n",
    "if p_value < alpha:\n",
    "    print(\"Reject the null hypothesis: The variances are significantly different.\")\n",
    "else:\n",
    "    print(\"Fail to reject the null hypothesis: The variances are not significantly different.\")"
   ]
  },
  {
   "cell_type": "markdown",
   "id": "e8c3dcb5-d20f-4cac-9496-cbdf8e8ab239",
   "metadata": {},
   "source": [
    "This program conducts an F-test at the 10% significance level to determine if the variances of two normal populations are significantly different. It uses the sample variances of 25 and 20, and sample sizes of 10 and 15 to compute the F-value and p-value for the variance ratio test using the f.cdf() function from the scipy.stats module. The degrees of freedom for the test are computed based on the sample sizes (n1 and n2). Finally, the program conducts the hypothesis test and prints out the conclusion of the test."
   ]
  },
  {
   "cell_type": "code",
   "execution_count": null,
   "id": "bc9a3dfa-f2b6-4b0e-8737-d8a8a59a7bc4",
   "metadata": {},
   "outputs": [],
   "source": []
  },
  {
   "cell_type": "markdown",
   "id": "111eca0a-dd3b-4c36-9202-c7797b59b245",
   "metadata": {},
   "source": [
    "Q8. The following data represent the waiting times in minutes at two different restaurants on a Saturday night: Restaurant A: 24, 25, 28, 23, 22, 20, 27; Restaurant B: 31, 33, 35, 30, 32, 36. Conduct an F-test at the 5% significance level to determine if the variances are significantly different."
   ]
  },
  {
   "cell_type": "code",
   "execution_count": 8,
   "id": "4869e2a8-7b47-465a-8f01-9f6b6e31b5df",
   "metadata": {},
   "outputs": [
    {
     "name": "stdout",
     "output_type": "stream",
     "text": [
      "Fail to reject the null hypothesis: The variances are not significantly different.\n"
     ]
    }
   ],
   "source": [
    "import numpy as np\n",
    "from scipy.stats import f\n",
    "\n",
    "# Define the waiting times at each restaurant\n",
    "a = np.array([24, 25, 28, 23, 22, 20, 27])\n",
    "b = np.array([31, 33, 35, 30, 32, 36])\n",
    "\n",
    "# Compute the sample variances and degrees of freedom\n",
    "squared_var_a = np.var(a, ddof=1)\n",
    "squared_var_b = np.var(b, ddof=1)\n",
    "n_a = len(a)\n",
    "n_b = len(b)\n",
    "df_a = n_a - 1\n",
    "df_b = n_b - 1\n",
    "\n",
    "# Compute the F-value and p-value for the variance ratio test\n",
    "F = squared_var_a / squared_var_b\n",
    "p_value = 2 * (1 - f.cdf(F, df_a, df_b))\n",
    "\n",
    "# Set the significance level\n",
    "alpha = 0.05\n",
    "\n",
    "# Conduct the hypothesis test\n",
    "if p_value < alpha:\n",
    "    print(\"Reject the null hypothesis: The variances are significantly different.\")\n",
    "else:\n",
    "    print(\"Fail to reject the null hypothesis: The variances are not significantly different.\")"
   ]
  },
  {
   "cell_type": "markdown",
   "id": "e7d8ef2b-ba9f-4006-bed9-7dc3bfca2e52",
   "metadata": {},
   "source": [
    "This program conducts an F-test at the 5% significance level to determine if the variances of waiting times at two different restaurants are significantly different. It uses the waiting times of Restaurant A and B to compute the sample variances (squared_var_a and squared_var_b) and degrees of freedom (df_a and df_b). The F-value and p-value for the variance ratio test are then computed using the f.cdf() function from the scipy.stats module. Finally, the program conducts the hypothesis test and prints out the conclusion of the test."
   ]
  },
  {
   "cell_type": "code",
   "execution_count": null,
   "id": "c24e0226-0a1e-4db0-ab7b-9f48edb4ff46",
   "metadata": {},
   "outputs": [],
   "source": []
  },
  {
   "cell_type": "markdown",
   "id": "c1be8169-0f67-4993-a133-623588d5053c",
   "metadata": {},
   "source": [
    "Q9. The following data represent the test scores of two groups of students: Group A: 80, 85, 90, 92, 87, 83; Group B: 75, 78, 82, 79, 81, 84. Conduct an F-test at the 1% significance level to determine if the variances are significantly different."
   ]
  },
  {
   "cell_type": "code",
   "execution_count": 9,
   "id": "dcd41421-bdbc-4bb1-8b26-9d129e702db4",
   "metadata": {},
   "outputs": [
    {
     "name": "stdout",
     "output_type": "stream",
     "text": [
      "Fail to reject the null hypothesis: The variances are not significantly different.\n"
     ]
    }
   ],
   "source": [
    "import numpy as np\n",
    "from scipy.stats import f\n",
    "\n",
    "# Define the test scores for each group\n",
    "a = np.array([80, 85, 90, 92, 87, 83])\n",
    "b = np.array([75, 78, 82, 79, 81, 84])\n",
    "\n",
    "# Compute the sample variances and degrees of freedom\n",
    "squared_var_a = np.var(a, ddof=1)\n",
    "squared_var_b = np.var(b, ddof=1)\n",
    "n_a = len(a)\n",
    "n_b = len(b)\n",
    "df_a = n_a - 1\n",
    "df_b = n_b - 1\n",
    "\n",
    "# Compute the F-value and p-value for the variance ratio test\n",
    "F = squared_var_a / squared_var_b\n",
    "p_value = 2 * (1 - f.cdf(F, df_a, df_b))\n",
    "\n",
    "# Set the significance level\n",
    "alpha = 0.01\n",
    "\n",
    "# Conduct the hypothesis test\n",
    "if p_value < alpha:\n",
    "    print(\"Reject the null hypothesis: The variances are significantly different.\")\n",
    "else:\n",
    "    print(\"Fail to reject the null hypothesis: The variances are not significantly different.\")"
   ]
  },
  {
   "cell_type": "code",
   "execution_count": null,
   "id": "ac695699-1d6d-4426-9d95-7651d27a0f97",
   "metadata": {},
   "outputs": [],
   "source": []
  },
  {
   "cell_type": "code",
   "execution_count": null,
   "id": "70eaaadb-ed12-4556-bf7b-cd914fbdf549",
   "metadata": {},
   "outputs": [],
   "source": []
  },
  {
   "cell_type": "code",
   "execution_count": null,
   "id": "8d49b935-1981-49f5-bcae-1fe7e7fb8a03",
   "metadata": {},
   "outputs": [],
   "source": []
  }
 ],
 "metadata": {
  "kernelspec": {
   "display_name": "Python 3 (ipykernel)",
   "language": "python",
   "name": "python3"
  },
  "language_info": {
   "codemirror_mode": {
    "name": "ipython",
    "version": 3
   },
   "file_extension": ".py",
   "mimetype": "text/x-python",
   "name": "python",
   "nbconvert_exporter": "python",
   "pygments_lexer": "ipython3",
   "version": "3.10.8"
  }
 },
 "nbformat": 4,
 "nbformat_minor": 5
}
