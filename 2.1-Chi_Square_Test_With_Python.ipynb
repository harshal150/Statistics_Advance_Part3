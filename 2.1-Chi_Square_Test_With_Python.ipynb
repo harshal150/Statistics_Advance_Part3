{
  "cells": [
    {
      "cell_type": "markdown",
      "id": "c68fecf8-a73f-4fbd-978f-d75de56625fe",
      "metadata": {
        "id": "c68fecf8-a73f-4fbd-978f-d75de56625fe"
      },
      "source": [
        "## Chi Square Test With Python"
      ]
    },
    {
      "cell_type": "code",
      "execution_count": null,
      "id": "53f2f5ea-cfeb-4c8f-9557-5ee5b76d8dae",
      "metadata": {
        "id": "53f2f5ea-cfeb-4c8f-9557-5ee5b76d8dae"
      },
      "outputs": [],
      "source": [
        "import scipy.stats as stat\n",
        "import numpy as np"
      ]
    },
    {
      "cell_type": "code",
      "execution_count": null,
      "id": "8afde734-19ce-4814-b232-2dfb5fb3d000",
      "metadata": {
        "id": "8afde734-19ce-4814-b232-2dfb5fb3d000"
      },
      "outputs": [],
      "source": [
        "## No of hours student study in a weekly basis daily\n",
        "##monday,tuesday,Wednesday,thursday,Friday,Saturday,sunday\n",
        "expected_data=[8,6,7,9,6,9,7]\n",
        "observed_data=[7,8,6,9,9,6,7]"
      ]
    },
    {
      "cell_type": "code",
      "execution_count": null,
      "id": "d9f99133-b67b-44ab-95a4-d73f1485085e",
      "metadata": {
        "id": "d9f99133-b67b-44ab-95a4-d73f1485085e",
        "outputId": "1850022e-c41c-4c0c-a22b-305d0f224b89"
      },
      "outputs": [
        {
          "data": {
            "text/plain": [
              "(52, 52)"
            ]
          },
          "execution_count": 8,
          "metadata": {},
          "output_type": "execute_result"
        }
      ],
      "source": [
        "sum(expected_data),sum(observed_data)"
      ]
    },
    {
      "cell_type": "code",
      "execution_count": null,
      "id": "0877666b-699f-4265-8994-501d07d7575a",
      "metadata": {
        "id": "0877666b-699f-4265-8994-501d07d7575a"
      },
      "outputs": [],
      "source": [
        "## Chi-Square Goodness Of Fit Test\n",
        "chisquare_test_statistic,p_value=stat.chisquare(observed_data,expected_data)"
      ]
    },
    {
      "cell_type": "code",
      "execution_count": null,
      "id": "8b621eeb-1c1a-4d30-9745-e7fdc9e8519d",
      "metadata": {
        "id": "8b621eeb-1c1a-4d30-9745-e7fdc9e8519d",
        "outputId": "3760818c-56e2-4653-8c8b-9109663fb9b0"
      },
      "outputs": [
        {
          "data": {
            "text/plain": [
              "(3.4345238095238093, 0.7526596580922865)"
            ]
          },
          "execution_count": 11,
          "metadata": {},
          "output_type": "execute_result"
        }
      ],
      "source": [
        "chisquare_test_statistic,p_value"
      ]
    },
    {
      "cell_type": "code",
      "execution_count": null,
      "id": "699dc7b0-0150-4b8c-a7e7-8c2112be2f2c",
      "metadata": {
        "id": "699dc7b0-0150-4b8c-a7e7-8c2112be2f2c",
        "outputId": "ea46ac3b-83cd-4289-dc5c-b9c6338f41a1"
      },
      "outputs": [
        {
          "name": "stdout",
          "output_type": "stream",
          "text": [
            "6\n"
          ]
        }
      ],
      "source": [
        "## find the critical value\n",
        "significane_value=0.05\n",
        "dof=len(expected_data)-1\n",
        "print(dof)\n",
        "critical_value=stat.chi2.ppf(1-significane_value,dof)"
      ]
    },
    {
      "cell_type": "code",
      "execution_count": null,
      "id": "aa233891-d7be-4e41-b539-86e7bdeab8aa",
      "metadata": {
        "id": "aa233891-d7be-4e41-b539-86e7bdeab8aa",
        "outputId": "aaad86a4-482d-4ede-f0e9-5f1dae04ee56"
      },
      "outputs": [
        {
          "data": {
            "text/plain": [
              "12.591587243743977"
            ]
          },
          "execution_count": 17,
          "metadata": {},
          "output_type": "execute_result"
        }
      ],
      "source": [
        "critical_value"
      ]
    },
    {
      "cell_type": "code",
      "execution_count": null,
      "id": "e54e9d32-bed9-4189-bc15-d632ee1c6946",
      "metadata": {
        "id": "e54e9d32-bed9-4189-bc15-d632ee1c6946",
        "outputId": "ace47346-ab54-4e24-fc71-2a09426723d2"
      },
      "outputs": [
        {
          "name": "stdout",
          "output_type": "stream",
          "text": [
            "Accept the null hypothesis\n"
          ]
        }
      ],
      "source": [
        "if chisquare_test_statistic > critical_value:\n",
        "    print(\"Reject the null hypothesis\")\n",
        "else:\n",
        "    print(\"Accept the null hypothesis\")"
      ]
    },
    {
      "cell_type": "code",
      "execution_count": null,
      "id": "3b629d34-dd8e-45d4-9a9b-cb0bf603fc14",
      "metadata": {
        "id": "3b629d34-dd8e-45d4-9a9b-cb0bf603fc14"
      },
      "outputs": [],
      "source": []
    },
    {
      "cell_type": "code",
      "execution_count": null,
      "id": "77042b70-3ec6-4081-a647-d81bab5c8f97",
      "metadata": {
        "id": "77042b70-3ec6-4081-a647-d81bab5c8f97"
      },
      "outputs": [],
      "source": []
    },
    {
      "cell_type": "code",
      "execution_count": null,
      "id": "e29ffa32-3560-4a05-b19f-f90a79a84681",
      "metadata": {
        "id": "e29ffa32-3560-4a05-b19f-f90a79a84681"
      },
      "outputs": [],
      "source": []
    },
    {
      "cell_type": "code",
      "execution_count": null,
      "id": "e7d79360-c6b5-49e6-902f-a3cb6e12b1ab",
      "metadata": {
        "id": "e7d79360-c6b5-49e6-902f-a3cb6e12b1ab"
      },
      "outputs": [],
      "source": []
    },
    {
      "cell_type": "code",
      "execution_count": null,
      "id": "478a09ce-ea2d-4965-8dbe-4a6a1a525a05",
      "metadata": {
        "id": "478a09ce-ea2d-4965-8dbe-4a6a1a525a05"
      },
      "outputs": [],
      "source": []
    },
    {
      "cell_type": "code",
      "execution_count": null,
      "id": "658efef9-e235-4e7d-927f-5f83dbc15862",
      "metadata": {
        "id": "658efef9-e235-4e7d-927f-5f83dbc15862"
      },
      "outputs": [],
      "source": []
    },
    {
      "cell_type": "code",
      "execution_count": null,
      "id": "e0710202-50b4-49d9-b8dc-cfa1261f911a",
      "metadata": {
        "id": "e0710202-50b4-49d9-b8dc-cfa1261f911a"
      },
      "outputs": [],
      "source": []
    },
    {
      "cell_type": "code",
      "execution_count": null,
      "id": "3201d288-0157-4cdd-ae89-174a890c31ba",
      "metadata": {
        "id": "3201d288-0157-4cdd-ae89-174a890c31ba"
      },
      "outputs": [],
      "source": []
    }
  ],
  "metadata": {
    "kernelspec": {
      "display_name": "Python 3 (ipykernel)",
      "language": "python",
      "name": "python3"
    },
    "language_info": {
      "codemirror_mode": {
        "name": "ipython",
        "version": 3
      },
      "file_extension": ".py",
      "mimetype": "text/x-python",
      "name": "python",
      "nbconvert_exporter": "python",
      "pygments_lexer": "ipython3",
      "version": "3.10.8"
    },
    "colab": {
      "provenance": []
    }
  },
  "nbformat": 4,
  "nbformat_minor": 5
}